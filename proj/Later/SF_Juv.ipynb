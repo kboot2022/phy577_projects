{
 "cells": [
  {
   "cell_type": "code",
   "execution_count": 1,
   "id": "aa450cf2-4c07-406a-a0e0-930d3ad893a9",
   "metadata": {},
   "outputs": [
    {
     "name": "stdout",
     "output_type": "stream",
     "text": [
      "Index(['Control1', 'Species', 'Year', 'Month', 'REGION', 'SPECIES1', 'Station',\n",
      "       'COLNUM', 'Day', 'Location', 'Gear1', 'SedSize', 'BtmComp', 'Depth',\n",
      "       'STemp', 'BTemp', 'SSal', 'BSal', 'SDO', 'BDO', 'AREA'],\n",
      "      dtype='object')\n"
     ]
    },
    {
     "data": {
      "text/plain": [
       "'\\n\\n##### Variables:\\n#Control1 - trawl number (control number, one per survey)\\n#Species - species number --- all SF in this dataset\\n# Year - year of trawl survey\\n# Month - month of trawl survey as number # (ie 5 = May)\\n# Region - area of trawl survey PAM = Pamlico Sound, ALB = Albemarle, STH - ????\\n# SPECIES1 - ??\\n# Station - station number/label\\n# COLNUM - collection number; the total number of individuals of a species/status in the survey trip.\\n# Day - Day of the month\\n# Location - Location number???\\n# Gear1 - ??? Assume type of survey/gear used?\\n# SedSize - Predom Sediment size at sampling location???\\n# BtmComp - ???\\n# Depth - Depth of water???\\n# STemp - Surface temperature in C\\n# BTemp - Below surface temp????\\n# SSal - Surface Salinity\\n# BSal - Below surface salinity????\\n# SDO - Surface DO\\n# BDO - below surface DO???\\n# AREA - ?????\\n\\n'"
      ]
     },
     "execution_count": 1,
     "metadata": {},
     "output_type": "execute_result"
    }
   ],
   "source": [
    "# Project 2 Data Analysis\n",
    "\n",
    "import pandas as pd\n",
    "import numpy as np\n",
    "import matplotlib.pyplot as plt\n",
    "from datetime import datetime\n",
    "import matplotlib.dates as mdates\n",
    "from scipy.stats import skew\n",
    "\n",
    "path = 'southern_flounder_120_juv.sas7bdat'\n",
    "SF_data = pd.read_sas(path)\n",
    "\n",
    "print(SF_data.columns) # examine column headers\n",
    "\n",
    "# We care about Control, Year, Month, Station, COLNUM, Day, \n",
    "'''\n",
    "\n",
    "##### Variables:\n",
    "#Control1 - trawl number (control number, one per survey)\n",
    "#Species - species number --- all SF in this dataset\n",
    "# Year - year of trawl survey\n",
    "# Month - month of trawl survey as number # (ie 5 = May)\n",
    "# Region - area of trawl survey PAM = Pamlico Sound, ALB = Albemarle, STH - ????\n",
    "# SPECIES1 - ??\n",
    "# Station - station number/label\n",
    "# COLNUM - collection number; the total number of individuals of a species/status in the survey trip.\n",
    "# Day - Day of the month\n",
    "# Location - Location number???\n",
    "# Gear1 - ??? Assume type of survey/gear used?\n",
    "# SedSize - Predom Sediment size at sampling location???\n",
    "# BtmComp - ???\n",
    "# Depth - Depth of water???\n",
    "# STemp - Surface temperature in C\n",
    "# BTemp - Below surface temp????\n",
    "# SSal - Surface Salinity\n",
    "# BSal - Below surface salinity????\n",
    "# SDO - Surface DO\n",
    "# BDO - below surface DO???\n",
    "# AREA - ?????\n",
    "\n",
    "'''\n",
    "\n"
   ]
  },
  {
   "cell_type": "code",
   "execution_count": null,
   "id": "d6249c32-df97-40e1-878b-896ccbb4a7d6",
   "metadata": {},
   "outputs": [],
   "source": []
  }
 ],
 "metadata": {
  "kernelspec": {
   "display_name": "Python 3 (ipykernel)",
   "language": "python",
   "name": "python3"
  },
  "language_info": {
   "codemirror_mode": {
    "name": "ipython",
    "version": 3
   },
   "file_extension": ".py",
   "mimetype": "text/x-python",
   "name": "python",
   "nbconvert_exporter": "python",
   "pygments_lexer": "ipython3",
   "version": "3.8.12"
  }
 },
 "nbformat": 4,
 "nbformat_minor": 5
}
