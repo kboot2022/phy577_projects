{
 "cells": [
  {
   "cell_type": "code",
   "execution_count": 1,
   "id": "d3c777b6-0d0c-491e-9c79-6d865048ddf7",
   "metadata": {},
   "outputs": [],
   "source": [
    "#import pandas as pd bring in multiple tool to help manipulate data sets, NumPy for numerical computations, and Matplotlib for data visualization, Pylib for all three (plus more useful tools)\n",
    "import pandas as pd\n",
    "import numpy as np\n",
    "import matplotlib.pyplot as plt\n",
    "from pylib import *\n",
    "\n",
    "import urllib\n",
    "import os\n",
    "import shutil\n",
    "import zipfile"
   ]
  },
  {
   "cell_type": "code",
   "execution_count": 18,
   "id": "c83211e6-b822-4e08-8eb5-d6f200f905a1",
   "metadata": {},
   "outputs": [
    {
     "name": "stdout",
     "output_type": "stream",
     "text": [
      "44  YEAR MONTH DAY TIME_PST TIME_FLAG SURF_SAL_PSU SURF_FLAG BOT_SAL_PSU  \\\n",
      "45  1916     8  22      NaN       NaN          NaN         0         NaN   \n",
      "46  1916     8  23      NaN       NaN        33.57         0         NaN   \n",
      "47  1916     8  24      NaN       NaN          NaN         0         NaN   \n",
      "48  1916     8  25      NaN       NaN        33.60         0         NaN   \n",
      "49  1916     8  26      NaN       NaN        33.51         0         NaN   \n",
      "50  1916     8  27      NaN       NaN          NaN         0         NaN   \n",
      "51  1916     8  28      NaN       NaN        33.54         0         NaN   \n",
      "52  1916     8  29      NaN       NaN        33.53         0         NaN   \n",
      "53  1916     8  30      NaN       NaN        33.53         0         NaN   \n",
      "54  1916     8  31      NaN       NaN        33.44         0         NaN   \n",
      "\n",
      "44 BOT_FLAG  NaN  NaN  \n",
      "45        0  NaN  NaN  \n",
      "46        0  NaN  NaN  \n",
      "47        0  NaN  NaN  \n",
      "48        0  NaN  NaN  \n",
      "49        0  NaN  NaN  \n",
      "50        0  NaN  NaN  \n",
      "51        0  NaN  NaN  \n",
      "52        0  NaN  NaN  \n",
      "53        0  NaN  NaN  \n",
      "54        0  NaN  NaN  \n",
      "44  YEAR MONTH DAY TIME_PST TIME_FLAG SURF_SAL_PSU SURF_FLAG BOT_SAL_PSU  \\\n",
      "45  1916     8  22      NaN       NaN          NaN         0         NaN   \n",
      "46  1916     8  23      NaN       NaN        33.57         0         NaN   \n",
      "47  1916     8  24      NaN       NaN          NaN         0         NaN   \n",
      "48  1916     8  25      NaN       NaN        33.60         0         NaN   \n",
      "49  1916     8  26      NaN       NaN        33.51         0         NaN   \n",
      "50  1916     8  27      NaN       NaN          NaN         0         NaN   \n",
      "51  1916     8  28      NaN       NaN        33.54         0         NaN   \n",
      "52  1916     8  29      NaN       NaN        33.53         0         NaN   \n",
      "53  1916     8  30      NaN       NaN        33.53         0         NaN   \n",
      "54  1916     8  31      NaN       NaN        33.44         0         NaN   \n",
      "\n",
      "44 BOT_FLAG  NaN  NaN    datestr  \n",
      "45        0  NaN  NaN  1916-8-22  \n",
      "46        0  NaN  NaN  1916-8-23  \n",
      "47        0  NaN  NaN  1916-8-24  \n",
      "48        0  NaN  NaN  1916-8-25  \n",
      "49        0  NaN  NaN  1916-8-26  \n",
      "50        0  NaN  NaN  1916-8-27  \n",
      "51        0  NaN  NaN  1916-8-28  \n",
      "52        0  NaN  NaN  1916-8-29  \n",
      "53        0  NaN  NaN  1916-8-30  \n",
      "54        0  NaN  NaN  1916-8-31  \n"
     ]
    }
   ],
   "source": [
    "import pandas as pd \n",
    "\n",
    "path_to_file=\"/Users/kboothomefolder/phy577_projects/hw1/bb4003017c.zip/LaJolla_SALT_1916-202303.csv\" \n",
    "\n",
    "Salt_Data= pd.read_csv(path_to_file)\n",
    "\n",
    "#print(Salt_Data.iloc[0:50])\n",
    "Salt_Data.drop(range(0, 44), inplace=True)\n",
    "Salt_Data.drop(columns=Salt_Data.columns[-2:], inplace=True) # drop last two blank columns in orig dataframe (TRUE)\n",
    "\n",
    "Salt_Data.columns = Salt_Data.iloc[0]\n",
    "Salt_Data = Salt_Data[1:]\n",
    "print(Salt_Data.iloc[0:10])\n",
    "\n",
    "Salt_Data['datestr']=Salt_Data.iloc[:,0:3].astype(str).apply('-'.join,axis=1)\n",
    "\n",
    "surface_salinity = np.asarray(pd.to_numeric(Salt_Data['SURF_SAL_PSU']))\n",
    "\n",
    "# variable_name = data that is being assigned to variables <<<<<---- formatting for assigning a variable\n",
    "\n",
    "print(Salt_Data.iloc[0:10])\n"
   ]
  },
  {
   "cell_type": "code",
   "execution_count": null,
   "id": "a7a4a614-e7e9-445c-be1f-e2253f61ff14",
   "metadata": {},
   "outputs": [],
   "source": [
    "# creating array from csv data file\n",
    "# Need to use range function to exclude header rows/columns. Exlcude rows 0-45.\n",
    "#38,983 rows, 14 columns for Temp data; 38,983 rows, 11 columns for Salt Data\n",
    "\n",
    "import csv\n",
    "\n",
    "# open file for reading\n",
    "\n",
    "with open('C:\\\\Users\\\\cbeau\\\\Downloads\\\\LaJolla_SALT_1916-202303.csv') as Salt_Data:\n",
    "\n",
    "    # open file as csv file\n",
    "    csvReader = csv.reader(Salt_Data)\n",
    "\n",
    "    # loop over rows\n",
    "    for row in csvReader:\n",
    "\n",
    "        # add cell [0] to list of dates\n",
    "        rows.append(range[46,38983])\n",
    "\n",
    "        # add cell [1] to list of scores\n",
    "        columns.append(range[0,10])"
   ]
  }
 ],
 "metadata": {
  "kernelspec": {
   "display_name": "Python 3 (ipykernel)",
   "language": "python",
   "name": "python3"
  },
  "language_info": {
   "codemirror_mode": {
    "name": "ipython",
    "version": 3
   },
   "file_extension": ".py",
   "mimetype": "text/x-python",
   "name": "python",
   "nbconvert_exporter": "python",
   "pygments_lexer": "ipython3",
   "version": "3.8.12"
  }
 },
 "nbformat": 4,
 "nbformat_minor": 5
}
