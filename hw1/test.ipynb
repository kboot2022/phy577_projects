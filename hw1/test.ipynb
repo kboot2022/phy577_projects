{
 "cells": [
  {
   "cell_type": "code",
   "execution_count": 3,
   "id": "ebfadc14-68e1-4970-b897-ac2944214f1c",
   "metadata": {},
   "outputs": [],
   "source": [
    "# comment\n",
    "\n",
    "import pandas as pd"
   ]
  },
  {
   "cell_type": "code",
   "execution_count": null,
   "id": "0cb200c7-5456-4618-894e-10bb11c11214",
   "metadata": {},
   "outputs": [],
   "source": []
  }
 ],
 "metadata": {
  "kernelspec": {
   "display_name": "Python 3 (ipykernel)",
   "language": "python",
   "name": "python3"
  },
  "language_info": {
   "codemirror_mode": {
    "name": "ipython",
    "version": 3
   },
   "file_extension": ".py",
   "mimetype": "text/x-python",
   "name": "python",
   "nbconvert_exporter": "python",
   "pygments_lexer": "ipython3",
   "version": "3.8.12"
  }
 },
 "nbformat": 4,
 "nbformat_minor": 5
}
