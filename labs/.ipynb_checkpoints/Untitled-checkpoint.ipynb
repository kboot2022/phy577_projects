{
 "cells": [
  {
   "cell_type": "code",
   "execution_count": null,
   "id": "fb92b108-7960-4547-98ba-08655461af9c",
   "metadata": {},
   "outputs": [
    {
     "name": "stdout",
     "output_type": "stream",
     "text": [
      "[-1.         -0.75510204 -0.51020408 -0.26530612 -0.02040816  0.2244898\n",
      "  0.46938776  0.71428571  0.95918367  1.20408163  1.44897959  1.69387755\n",
      "  1.93877551  2.18367347  2.42857143  2.67346939  2.91836735  3.16326531\n",
      "  3.40816327  3.65306122  3.89795918  4.14285714  4.3877551   4.63265306\n",
      "  4.87755102  5.12244898  5.36734694  5.6122449   5.85714286  6.10204082\n",
      "  6.34693878  6.59183673  6.83673469  7.08163265  7.32653061  7.57142857\n",
      "  7.81632653  8.06122449  8.30612245  8.55102041  8.79591837  9.04081633\n",
      "  9.28571429  9.53061224  9.7755102  10.02040816 10.26530612 10.51020408\n",
      " 10.75510204 11.        ]\n"
     ]
    },
    {
     "data": {
      "image/png": "[encoded data removed]",
      "text/plain": [
       "<Figure size 432x288 with 1 Axes>"
      ]
     },
     "metadata": {
      "needs_background": "light"
     },
     "output_type": "display_data"
    }
   ],
   "source": [
    "import pandas as pd\n",
    "import numpy as np\n",
    "import matplotlib.pyplot as plt\n",
    "from pylib import *\n",
    "\n",
    "# 1. Create an [N x 10] uniformly distributed random variable; x = rand(N, 10)\n",
    "\n",
    "N = 100000\n",
    "x = np.random.rand(N, 10)\n",
    "\n",
    "# 2. Create an [Nx10] sum of random variables: z = cumsum(x,2)\n",
    "\n",
    "z = np.cumsum(x, 1)\n",
    "\n",
    "# 3. Make a histogram from [-1, 11]\n",
    "\n",
    "# range = [-1,11]\n",
    "\n",
    "# we want there to be the x axis from -1 to 11 with bin edges \n",
    "\n",
    "# bin_edges = [-1 + i * 0.24 for i in range(51)]\n",
    "\n",
    "BE = np.linspace(-1, 11, 50)\n",
    "\n",
    "plt.hist(z, bins=BE, edgecolor='k')\n",
    "\n",
    "plt.xlabel('Value')\n",
    "plt.ylabel('Frequency')\n",
    "plt.title('Histogram with 50 Bins')\n",
    "plt.grid(True)\n",
    "\n",
    "# 4. Plot H/N vs bins\n",
    "\n",
    "print(BE)\n",
    "\n",
    "\n",
    "########### See Lecture 3 in the Github Python section for class"
   ]
  },
  {
   "cell_type": "code",
   "execution_count": null,
   "id": "f465bcfd-18e8-4940-88a3-366ba7d56fe6",
   "metadata": {},
   "outputs": [],
   "source": []
  }
 ],
 "metadata": {
  "kernelspec": {
   "display_name": "Python 3 (ipykernel)",
   "language": "python",
   "name": "python3"
  },
  "language_info": {
   "codemirror_mode": {
    "name": "ipython",
    "version": 3
   },
   "file_extension": ".py",
   "mimetype": "text/x-python",
   "name": "python",
   "nbconvert_exporter": "python",
   "pygments_lexer": "ipython3",
   "version": "3.8.12"
  }
 },
 "nbformat": 4,
 "nbformat_minor": 5
}
