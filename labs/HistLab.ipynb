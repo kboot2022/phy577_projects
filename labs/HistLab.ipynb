{
 "cells": [
  {
   "cell_type": "code",
   "execution_count": 6,
   "id": "fb92b108-7960-4547-98ba-08655461af9c",
   "metadata": {},
   "outputs": [
    {
     "data": {
      "text/plain": [
       "<matplotlib.legend.Legend at 0x16a62b460>"
      ]
     },
     "execution_count": 6,
     "metadata": {},
     "output_type": "execute_result"
    },
    {
     "data": {
      "image/png": "[encoded data removed]",
      "text/plain": [
       "<Figure size 432x288 with 1 Axes>"
      ]
     },
     "metadata": {
      "needs_background": "light"
     },
     "output_type": "display_data"
    }
   ],
   "source": [
    "import pandas as pd\n",
    "import numpy as np\n",
    "import matplotlib.pyplot as plt\n",
    "from pylib import *\n",
    "\n",
    "# 1. Create an [N x 10] uniformly distributed random variable; x = rand(N, 10)\n",
    "\n",
    "N = 100000\n",
    "x = np.random.rand(N, 10)\n",
    "\n",
    "# 2. Create an [Nx10] sum of random variables: z = cumsum(x,2)\n",
    "\n",
    "z = np.cumsum(x, 1)\n",
    "\n",
    "# 3. Make a histogram from [-1, 11]\n",
    "\n",
    "# range = [-1,11]\n",
    "\n",
    "# we want there to be the x axis from -1 to 11 with bin edges \n",
    "\n",
    "# bin_edges = [-1 + i * 0.24 for i in range(51)]\n",
    "'''\n",
    "BE = np.linspace(-1, 11, 50)\n",
    "\n",
    "plt.hist(z, bins=BE, edgecolor='k')\n",
    "\n",
    "plt.xlabel('Value')\n",
    "plt.ylabel('Frequency')\n",
    "plt.title('Histogram with 50 Bins')\n",
    "plt.grid(True)\n",
    "'''\n",
    "\n",
    "# Set the histogram parameters/bin edges\n",
    "BE = np.linspace(-1, 11, 50)\n",
    "\n",
    "# Compute the normalized histogram\n",
    "norm_hist, bins = np.histogram(z, bins=BE, density=True)\n",
    "\n",
    "# The 'bins' array contains the bin edges; you can remove the last value to have the same size as the histogram\n",
    "bins = bins[:-1]\n",
    "\n",
    "# Plot the histogram\n",
    "plt.figure(1)\n",
    "plt.hist(z, bins=BE, density=True, alpha=0.5, label='Hist Test')\n",
    "plt.xlabel('Value')\n",
    "plt.ylabel('Probability Density')\n",
    "plt.title('Probability Density Function (PDF)')\n",
    "plt.legend()\n",
    "\n",
    "\n",
    "\n",
    "# 4. Plot H/N vs bins\n",
    "\n",
    "#print(BE)\n",
    "\n",
    "\n",
    "########### See Lecture 3 in the Github Python section for class"
   ]
  },
  {
   "cell_type": "code",
   "execution_count": null,
   "id": "f465bcfd-18e8-4940-88a3-366ba7d56fe6",
   "metadata": {},
   "outputs": [],
   "source": []
  },
  {
   "cell_type": "code",
   "execution_count": null,
   "id": "088e6348-83a3-4332-8ec8-166236bcfe5d",
   "metadata": {},
   "outputs": [],
   "source": []
  }
 ],
 "metadata": {
  "kernelspec": {
   "display_name": "Python 3 (ipykernel)",
   "language": "python",
   "name": "python3"
  },
  "language_info": {
   "codemirror_mode": {
    "name": "ipython",
    "version": 3
   },
   "file_extension": ".py",
   "mimetype": "text/x-python",
   "name": "python",
   "nbconvert_exporter": "python",
   "pygments_lexer": "ipython3",
   "version": "3.8.12"
  }
 },
 "nbformat": 4,
 "nbformat_minor": 5
}
