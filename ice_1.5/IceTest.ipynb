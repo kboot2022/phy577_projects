{
 "cells": [
  {
   "cell_type": "code",
   "execution_count": null,
   "id": "6d2d13a5-79aa-4255-b8a9-7e7c4ab52ca0",
   "metadata": {},
   "outputs": [],
   "source": [
    "############# Matlab Code #########################\n",
    "'''\n",
    "% analyze temperature from a thermistor plunged into an ice bucket\n",
    "\n",
    "dataFile = 'IceTest_207222_20220531_1357.csv';\n",
    "data = readtable(dataFile);\n",
    "data(1,:)\n",
    "\n",
    "% extract the time and temperature data:\n",
    "t    = datenum(table2array(data(:,1)));\n",
    "T    = table2array(data(:,2));\n",
    "N    = length(t);\n",
    "\n",
    "% quick plot to identify start/end indices\n",
    "fig0 = figure;\n",
    "plot([1:N],T,'k','linewidth',2)\n",
    "fprintf('\\n\\n zoom in on where the temperature begins to rapidly drop. Press return when finished.\\n')\n",
    "pause()\n",
    "fprintf('\\n click the point where the temperature begins to rapidly drop.\\n')\n",
    "plunge = ginput(1);\n",
    "\n",
    "'''"
   ]
  },
  {
   "cell_type": "code",
   "execution_count": 38,
   "id": "f209e0c9-b8a6-4136-97b5-606e80fbe4ab",
   "metadata": {
    "tags": []
   },
   "outputs": [
    {
     "name": "stdout",
     "output_type": "stream",
     "text": [
      "Index(['Time', 'Temperature', 'Pressure', 'Sea pressure', 'Depth'], dtype='object', name=0)\n"
     ]
    }
   ],
   "source": [
    "import pandas as pd\n",
    "import numpy as np\n",
    "import matplotlib as plt\n",
    "\n",
    "# analyze temperature from a thermistor plunged into an ice bucket\n",
    "\n",
    "data = pd.DataFrame(pd.read_csv('/Users/kboothomefolder/phy577_projects/ice_1.5/IceTestDemo/IceTest_207222_20220531_1357.csv'))\n",
    "data.columns = data.iloc[0]\n",
    "data = data[1:]\n",
    "\n",
    "# Data Examination/Charact.\n",
    "#print(data['Time']) # why don't we need to use .loc here? \n",
    "print(data.columns)\n",
    "#print(type(data.Time.iloc[5])) # ALL variables are type string, must be converted to numeric/array for numpy\n",
    "\n",
    "# extract the time and temperature data:\n",
    "\n",
    "t = np.asarray(pd.to_datetime(data['Time'], format='%Y-%m-%d %H:%M:%S.%f')) \n",
    "N = len(t)\n",
    "T = np.asarray(pd.to_numeric(data['Temperature'])) "
   ]
  },
  {
   "cell_type": "code",
   "execution_count": 42,
   "id": "1b4ed20c-10e5-4e63-afee-d09f3a9c6177",
   "metadata": {},
   "outputs": [
    {
     "data": {
      "image/png": "[encoded data removed]",
      "text/plain": [
       "<Figure size 432x288 with 1 Axes>"
      ]
     },
     "metadata": {
      "needs_background": "light"
     },
     "output_type": "display_data"
    },
    {
     "name": "stdout",
     "output_type": "stream",
     "text": [
      "\n",
      "\n",
      "Zoom in on where the temperature begins to rapidly drop. Close the plot window when finished.\n",
      "\n"
     ]
    },
    {
     "data": {
      "text/plain": [
       "\"\\n\\n# Wait for the user to close the plot window\\nplt.pause(0.1)\\n\\nprint('\\nClick the point where the temperature begins to rapidly drop.')\\n\\n# Get user input (a single point)\\nplunge = plt.ginput(1)\\n\\n# 'plunge' will contain the coordinates (x, y) of the clicked point\\nprint('You clicked:', plunge)\\n\\n# If needed, you can access the x-coordinate like this:\\nx_coordinate = plunge[0][0]\\n\""
      ]
     },
     "execution_count": 42,
     "metadata": {},
     "output_type": "execute_result"
    }
   ],
   "source": [
    "#import numpy as np\n",
    "import matplotlib.pyplot as plt\n",
    "\n",
    "# quick plot to identify start/end indices\n",
    "\n",
    "# create a Matplotlib figure and plot the data using ax.plot().\n",
    "\n",
    "fig0, Tplot = plt.subplots()\n",
    "Tplot.plot(np.arange(1, N+1), T, 'k', linewidth=2)\n",
    "Tplot.set_xlabel('Index')\n",
    "Tplot.set_ylabel('Temperature')\n",
    "plt.show()\n",
    "\n",
    "# plt.subplots() creates a Matplotlib figure and a set of subplots (in this case, just one subplot).\n",
    "# 'Tplot' is a reference to the Axes object created within that subplot.\n",
    "\n",
    "print('\\n\\nZoom in on where the temperature begins to rapidly drop. Close the plot window when finished.\\n')\n",
    "\n",
    "# Wait for the user to close the plot window\n",
    "plt.pause(0.1)\n",
    "\n",
    "print('\\nClick the point where the temperature begins to rapidly drop.')\n",
    "\n",
    "'''\n",
    "# Get user input (a single point)\n",
    "plunge = plt.ginput(1)\n",
    "\n",
    "# 'plunge' will contain the coordinates (x, y) of the clicked point\n",
    "print('You clicked:', plunge)\n",
    "\n",
    "# If needed, you can access the x-coordinate like this:\n",
    "x_coordinate = plunge[0][0]\n",
    "'''"
   ]
  },
  {
   "cell_type": "code",
   "execution_count": null,
   "id": "e62e3724-b9cf-44b8-bc75-9dba26e50c90",
   "metadata": {},
   "outputs": [],
   "source": []
  }
 ],
 "metadata": {
  "kernelspec": {
   "display_name": "Python 3 (ipykernel)",
   "language": "python",
   "name": "python3"
  },
  "language_info": {
   "codemirror_mode": {
    "name": "ipython",
    "version": 3
   },
   "file_extension": ".py",
   "mimetype": "text/x-python",
   "name": "python",
   "nbconvert_exporter": "python",
   "pygments_lexer": "ipython3",
   "version": "3.8.12"
  }
 },
 "nbformat": 4,
 "nbformat_minor": 5
}
